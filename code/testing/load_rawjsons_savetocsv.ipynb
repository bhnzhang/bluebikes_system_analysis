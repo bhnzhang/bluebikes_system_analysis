{
 "cells": [
  {
   "cell_type": "code",
   "execution_count": 2,
   "id": "5e66acca",
   "metadata": {},
   "outputs": [],
   "source": [
    "# imports\n",
    "\n",
    "import sys\n",
    "sys.path.append(\"C:\\\\Users\\\\beezy\\\\git\\\\bluebikes_system_analysis\\\\code\")\n",
    "sys.path.append(\"C:\\\\Users\\\\beezy\\\\git\\\\bluebikes_system_analysis\\\\code\\\\data_handling\")\n",
    "\n",
    "# for loading a json and saving to a csv\n",
    "from data_handling.loadjson_savetocsv import load_jsons_savetocsv\n",
    "\n",
    "# read from json files\n",
    "# log_220715 = load_jsons_savetocsv( 'C:\\\\Users\\\\beezy\\\\git\\\\bluebikes_system_analysis\\\\data\\\\station data 220715 jsons', \n",
    "#                                     'log_220715.csv' )\n",
    "# log_220715 = load_jsons_toDF( 'C:\\\\Users\\\\beezy\\\\git\\\\bluebikes_system_analysis\\\\data\\\\station data 220715 jsons' )\n"
   ]
  },
  {
   "cell_type": "code",
   "execution_count": 3,
   "id": "375429f4",
   "metadata": {},
   "outputs": [
    {
     "name": "stdout",
     "output_type": "stream",
     "text": [
      "Loading 288 JSON files...\n",
      "loaded file 99 of 288\n",
      "loaded file 199 of 288\n",
      "done loading.\n",
      "saving to CSV...\n",
      "CSV file saved\n"
     ]
    }
   ],
   "source": [
    "# read from json files, save to csv\n",
    "log_220715 = load_jsons_savetocsv( 'C:\\\\Users\\\\beezy\\\\git\\\\bluebikes_system_analysis\\\\data\\\\station data 220715 jsons', \n",
    "                                    'log_220715.csv' )\n",
    "# log_220715 = load_jsons_toDF( 'C:\\\\Users\\\\beezy\\\\git\\\\bluebikes_system_analysis\\\\data\\\\station data 220715 jsons' )\n"
   ]
  },
  {
   "cell_type": "code",
   "execution_count": null,
   "id": "e8acc6d3",
   "metadata": {},
   "outputs": [],
   "source": []
  }
 ],
 "metadata": {
  "kernelspec": {
   "display_name": "geo_env4",
   "language": "python",
   "name": "geo_env4"
  },
  "language_info": {
   "codemirror_mode": {
    "name": "ipython",
    "version": 3
   },
   "file_extension": ".py",
   "mimetype": "text/x-python",
   "name": "python",
   "nbconvert_exporter": "python",
   "pygments_lexer": "ipython3",
   "version": "3.10.6"
  }
 },
 "nbformat": 4,
 "nbformat_minor": 5
}
